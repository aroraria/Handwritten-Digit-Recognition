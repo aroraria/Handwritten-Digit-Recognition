{
 "cells": [
  {
   "cell_type": "code",
   "execution_count": null,
   "metadata": {},
   "outputs": [],
   "source": [
    "import numpy as np\n",
    "import pandas as pd\n",
    "import datetime\n",
    "from matplotlib import pyplot as plt\n",
    "%matplotlib inline"
   ]
  },
  {
   "cell_type": "code",
   "execution_count": null,
   "metadata": {},
   "outputs": [],
   "source": [
    "ds = pd.read_csv('./train.csv')\n",
    "\n",
    "data = ds.values\n",
    "print (data.shape)\n",
    "print (data)"
   ]
  },
  {
   "cell_type": "code",
   "execution_count": null,
   "metadata": {},
   "outputs": [],
   "source": [
    "split = int(0.8 * data.shape[0])\n",
    "X_train = data[:split, 1:]\n",
    "y_train = data[:split, 0]\n",
    "\n",
    "X_test = data[split:, 1:]\n",
    "y_test = data[split:, 0]"
   ]
  },
  {
   "cell_type": "code",
   "execution_count": null,
   "metadata": {},
   "outputs": [],
   "source": [
    "def dist(x1, x2):\n",
    "    return np.sqrt(((x1-x2)**2).sum())\n",
    "\n",
    "def knn(X_train, x, y_train, k=5):\n",
    "    vals = []\n",
    "    for ix in range(X_train.shape[0]):\n",
    "        v = [dist(x, X_train[ix, :]), y_train[ix]]\n",
    "        vals.append(v)\n",
    "    \n",
    "    updated_vals = sorted(vals, key=lambda x:x[0])\n",
    "    pred_arr = np.asarray(updated_vals[:k])\n",
    "    pred_arr = np.unique(pred_arr, return_counts=True)\n",
    "    pred = pred_arr[1].argmax()\n",
    "    return pred_arr[0][pred]"
   ]
  },
  {
   "cell_type": "code",
   "execution_count": null,
   "metadata": {},
   "outputs": [],
   "source": [
    "start = datetime.datetime.now()\n",
    "\n",
    "knn = KNeighborsClassifier(n_neighbors=5, weights='distance')\n",
    "knn.fit(X_train, y_train)\n",
    "y_pred = knn.predict(X_test)\n",
    "accuracy = accuracy_score(y_test, y_pred)*100\n",
    "end = datetime.datetime.now()\n",
    "\n",
    "print ('Accuracy for K-Nearest Neighbours: ', accuracy)\n",
    "print ('Time Taken: ', (end - start).seconds, 'seconds')"
   ]
  },
  {
   "cell_type": "code",
   "execution_count": null,
   "metadata": {
    "collapsed": true
   },
   "outputs": [],
   "source": []
  },
  {
   "cell_type": "code",
   "execution_count": null,
   "metadata": {
    "collapsed": true
   },
   "outputs": [],
   "source": []
  },
  {
   "cell_type": "code",
   "execution_count": null,
   "metadata": {
    "collapsed": true
   },
   "outputs": [],
   "source": []
  }
 ],
 "metadata": {
  "kernelspec": {
   "display_name": "Python 3",
   "language": "python",
   "name": "python3"
  },
  "language_info": {
   "codemirror_mode": {
    "name": "ipython",
    "version": 3
   },
   "file_extension": ".py",
   "mimetype": "text/x-python",
   "name": "python",
   "nbconvert_exporter": "python",
   "pygments_lexer": "ipython3",
   "version": "3.6.5"
  }
 },
 "nbformat": 4,
 "nbformat_minor": 2
}
