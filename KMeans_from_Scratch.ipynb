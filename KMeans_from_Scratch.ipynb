{
 "cells": [
  {
   "cell_type": "code",
   "execution_count": 1,
   "metadata": {},
   "outputs": [],
   "source": [
    "import numpy as np\n",
    "import pandas as pd\n",
    "import datetime\n",
    "from matplotlib import pyplot as plt\n",
    "%matplotlib inline"
   ]
  },
  {
   "cell_type": "code",
   "execution_count": 3,
   "metadata": {},
   "outputs": [
    {
     "name": "stdout",
     "output_type": "stream",
     "text": [
      "(42000, 785)\n",
      "[[1 0 0 ... 0 0 0]\n",
      " [0 0 0 ... 0 0 0]\n",
      " [1 0 0 ... 0 0 0]\n",
      " ...\n",
      " [7 0 0 ... 0 0 0]\n",
      " [6 0 0 ... 0 0 0]\n",
      " [9 0 0 ... 0 0 0]]\n"
     ]
    }
   ],
   "source": [
    "ds = pd.read_csv('./train.csv')\n",
    "\n",
    "data = ds.values\n",
    "print (data.shape) \n",
    "print (data)"
   ]
  },
  {
   "cell_type": "code",
   "execution_count": 4,
   "metadata": {},
   "outputs": [],
   "source": [
    "split = int(0.8 * data.shape[0])\n",
    "X_train = data[:split, 1:]\n",
    "y_train = data[:split, 0]\n",
    "\n",
    "X_test = data[split:, 1:]\n",
    "y_test = data[split:, 0]"
   ]
  },
  {
   "cell_type": "code",
   "execution_count": 5,
   "metadata": {},
   "outputs": [],
   "source": [
    "def dist(p1, p2):\n",
    "    return np.sqrt(((p1 - p2)**2).sum())\n",
    "\n",
    "def KMeansClustering(X_data, y_data, k=10, stop_iter=10, def_clusters=None):\n",
    "    dim = X_data.shape[1]\n",
    "    if def_clusters is None:\n",
    "        centers = np.random.uniform(low=X_data.min(), high=X_data.max(), size=(k, dim))\n",
    "        clusters = {}\n",
    "        for kx in range(k):\n",
    "            clusters[kx] = {\n",
    "                'center': centers[kx, :],\n",
    "                'points': [],\n",
    "                'answer': [],\n",
    "                'final' : 0,\n",
    "            }\n",
    "    else:\n",
    "        clusters = def_clusters\n",
    "    \n",
    "    curr_iter = 0\n",
    "    while curr_iter < stop_iter:\n",
    "        for px in range(X_data.shape[0]):\n",
    "            distance_px = []\n",
    "            for kx in range(k):\n",
    "                try:\n",
    "                    distance_px.append(dist(X_data[px, :], clusters[kx]['center']))\n",
    "                except:\n",
    "                    distance_px.append(float(\"inf\"))\n",
    "            distance_px = np.asarray(distance_px)\n",
    "            c_id = distance_px.argmin()\n",
    "            clusters[c_id]['points'].append(X_data[px, :])\n",
    "            clusters[c_id]['answer'].append(y_data[px])\n",
    "        \n",
    "        for kx in range(k):\n",
    "            try:\n",
    "                pts = np.asarray(clusters[kx]['points'])\n",
    "            except:\n",
    "                continue\n",
    "            if len(clusters[kx]['points']) == 0:\n",
    "                del clusters[kx]\n",
    "            else:\n",
    "                clusters[kx]['center'] = pts.mean(axis=0)\n",
    "                temp = np.asarray(clusters[kx]['answer'])\n",
    "                temp = np.unique(temp, return_counts = True)\n",
    "                #print temp\n",
    "                idx = temp[1].argmax()\n",
    "                clusters[kx]['final'] = temp[0][idx]\n",
    "                clusters[kx]['points'] = []\n",
    "                clusters[kx]['answer'] = []\n",
    "            \n",
    "        curr_iter += 1\n",
    "\n",
    "    return clusters"
   ]
  },
  {
   "cell_type": "code",
   "execution_count": 8,
   "metadata": {},
   "outputs": [
    {
     "name": "stdout",
     "output_type": "stream",
     "text": [
      "9\n",
      "Clusters formed for digits: [1, 7, 8, 0, 6, 3, 4]\n"
     ]
    }
   ],
   "source": [
    "main_centers = KMeansClustering(X_train, y_train, k=10, stop_iter=12)\n",
    "print (len(main_centers.keys()))\n",
    "\n",
    "valid_values = []\n",
    "\n",
    "for kx in main_centers.keys():\n",
    "    if main_centers[kx]['final'] not in valid_values:\n",
    "        valid_values.append(main_centers[kx]['final'])\n",
    "\n",
    "print ('Clusters formed for digits: ' + str(valid_values))"
   ]
  },
  {
   "cell_type": "code",
   "execution_count": 9,
   "metadata": {},
   "outputs": [],
   "source": [
    "def hellinger_dist(x1, x2):\n",
    "    return np.sqrt(0.5*((np.sqrt(x1) - np.sqrt(x2))**2).sum())\n",
    "\n",
    "def findCluster(x):    \n",
    "    vals = []\n",
    "    for kx in main_centers.keys():\n",
    "        v = [hellinger_dist(x, main_centers[kx]['center']), main_centers[kx]['final']]\n",
    "        vals.append(v)\n",
    "    vals = sorted(vals, key=lambda x:x[0])\n",
    "    return vals[0][1]"
   ]
  },
  {
   "cell_type": "code",
   "execution_count": 11,
   "metadata": {},
   "outputs": [
    {
     "name": "stdout",
     "output_type": "stream",
     "text": [
      "Accuracy for K-Nearest Neighbours:  44.285714285714285\n",
      "Time Taken:  1 seconds\n"
     ]
    }
   ],
   "source": [
    "correct = 0\n",
    "incorrect = 0\n",
    "start = datetime.datetime.now()\n",
    "\n",
    "for ix in range(X_test.shape[0]):\n",
    "    res = findCluster(X_test[ix])\n",
    "    if res == y_test[ix]:\n",
    "        correct += 1\n",
    "    else:\n",
    "        incorrect += 1\n",
    "\n",
    "end = datetime.datetime.now()\n",
    "accuracy = (float(correct)/(correct+incorrect))*100\n",
    "print ('Accuracy for K-Nearest Neighbours: ', accuracy)\n",
    "print ('Time Taken: ', (end - start).seconds, 'seconds')"
   ]
  },
  {
   "cell_type": "code",
   "execution_count": null,
   "metadata": {
    "collapsed": true
   },
   "outputs": [],
   "source": []
  }
 ],
 "metadata": {
  "kernelspec": {
   "display_name": "Python 3",
   "language": "python",
   "name": "python3"
  },
  "language_info": {
   "codemirror_mode": {
    "name": "ipython",
    "version": 3
   },
   "file_extension": ".py",
   "mimetype": "text/x-python",
   "name": "python",
   "nbconvert_exporter": "python",
   "pygments_lexer": "ipython3",
   "version": "3.6.5"
  }
 },
 "nbformat": 4,
 "nbformat_minor": 2
}
