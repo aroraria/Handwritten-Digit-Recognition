{
 "cells": [
  {
   "cell_type": "markdown",
   "metadata": {},
   "source": [
    "## ALTERNATIVE APPROACH TO K-MEANS SQUARE FOR MNIST DATA\n",
    "\n",
    "### PROBLEM\n",
    "Not able to get clusters of certain digits even with higher values of k.\n",
    "\n",
    "### HYPOTHESIZED SOLUTION\n",
    "To form initial clusters by taking mean of all points of one class in training set."
   ]
  },
  {
   "cell_type": "code",
   "execution_count": 10,
   "metadata": {},
   "outputs": [],
   "source": [
    "import numpy as np\n",
    "import pandas as pd\n",
    "import datetime\n",
    "from matplotlib import pyplot as plt\n",
    "%matplotlib inline"
   ]
  },
  {
   "cell_type": "code",
   "execution_count": 11,
   "metadata": {},
   "outputs": [
    {
     "name": "stdout",
     "output_type": "stream",
     "text": [
      "(42000, 785)\n",
      "[[1 0 0 ... 0 0 0]\n",
      " [0 0 0 ... 0 0 0]\n",
      " [1 0 0 ... 0 0 0]\n",
      " ...\n",
      " [7 0 0 ... 0 0 0]\n",
      " [6 0 0 ... 0 0 0]\n",
      " [9 0 0 ... 0 0 0]]\n"
     ]
    }
   ],
   "source": [
    "ds = pd.read_csv('./train.csv')\n",
    "\n",
    "data = ds.values\n",
    "print (data.shape) \n",
    "print (data)"
   ]
  },
  {
   "cell_type": "code",
   "execution_count": 12,
   "metadata": {},
   "outputs": [],
   "source": [
    "split = int(0.8 * data.shape[0])\n",
    "X_train = data[:split, 1:]\n",
    "y_train = data[:split, 0]\n",
    "\n",
    "X_test = data[split:, 1:]\n",
    "y_test = data[split:, 0]"
   ]
  },
  {
   "cell_type": "code",
   "execution_count": 13,
   "metadata": {},
   "outputs": [],
   "source": [
    "def hellinger_dist(x1, x2):\n",
    "    return np.sqrt(0.5*((np.sqrt(x1) - np.sqrt(x2))**2).sum())\n",
    "\n",
    "def formClusters(X_data, y_data):\n",
    "    clusters = {}\n",
    "    for px in range(X_data.shape[0]):\n",
    "        if y_data[px] in clusters.keys():\n",
    "            clusters[y_data[px]]['points'].append(X_data[px])\n",
    "        else:\n",
    "            clusters[y_data[px]] = {\n",
    "                'center': [],\n",
    "                'points': [X_data[px]],\n",
    "            }\n",
    "\n",
    "    for kx in clusters.keys():\n",
    "        clusters[kx]['center'] = np.mean(clusters[kx]['points'], axis=0)\n",
    "    return clusters\n",
    "\n",
    "def findClusterModified(x):    \n",
    "    vals = []\n",
    "    for kx in clusters.keys():\n",
    "        v = [hellinger_dist(x, clusters[kx]['center']), kx]\n",
    "        vals.append(v)\n",
    "    vals = sorted(vals, key=lambda x:x[0])\n",
    "    return vals[0][1]"
   ]
  },
  {
   "cell_type": "code",
   "execution_count": 14,
   "metadata": {},
   "outputs": [],
   "source": [
    "clusters = formClusters(X_train, y_train)"
   ]
  },
  {
   "cell_type": "code",
   "execution_count": 15,
   "metadata": {},
   "outputs": [
    {
     "name": "stdout",
     "output_type": "stream",
     "text": [
      "Accuracy for Modified K-Means Square on MNIST Data:  69.13095238095238\n",
      "Time Taken:  2 seconds\n"
     ]
    }
   ],
   "source": [
    "correct = 0\n",
    "incorrect = 0\n",
    "start = datetime.datetime.now()\n",
    "\n",
    "for ix in range(X_test.shape[0]):\n",
    "    res = findClusterModified(X_test[ix])\n",
    "    if res == y_test[ix]:\n",
    "        correct += 1\n",
    "    else:\n",
    "        incorrect += 1\n",
    "\n",
    "end = datetime.datetime.now()\n",
    "accuracy = (float(correct)/(correct+incorrect))*100\n",
    "print ('Accuracy for Modified K-Means Square on MNIST Data: ', accuracy)\n",
    "print ('Time Taken: ', (end - start).seconds, 'seconds')"
   ]
  },
  {
   "cell_type": "code",
   "execution_count": null,
   "metadata": {
    "collapsed": true
   },
   "outputs": [],
   "source": []
  }
 ],
 "metadata": {
  "kernelspec": {
   "display_name": "Python 3",
   "language": "python",
   "name": "python3"
  },
  "language_info": {
   "codemirror_mode": {
    "name": "ipython",
    "version": 3
   },
   "file_extension": ".py",
   "mimetype": "text/x-python",
   "name": "python",
   "nbconvert_exporter": "python",
   "pygments_lexer": "ipython3",
   "version": "3.6.5"
  }
 },
 "nbformat": 4,
 "nbformat_minor": 2
}
